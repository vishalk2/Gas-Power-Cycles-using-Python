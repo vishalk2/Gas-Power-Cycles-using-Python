{
 "cells": [
  {
   "cell_type": "markdown",
   "metadata": {},
   "source": [
    "# Ideal Otto Cycle"
   ]
  },
  {
   "cell_type": "markdown",
   "metadata": {},
   "source": [
    "Otto Cycle is basically a Gas Power Cycle which consists of <b>four internally reversible processes</b> -\n",
    "\n",
    "    i.   1-2  Isentropic Compression\n",
    "    ii.  2-3  Constant-Volume Heat Addition\n",
    "    iii. 3-4  Isentropic Expansion\n",
    "    iv.  4-1  Constant-Volume Heat Rejection\n",
    "    \n",
    "Below figure shows the P-v (Pressure VS Specific Volume) diagram of an Ideal Otto Cycle."
   ]
  },
  {
   "attachments": {
    "IdealOtto.png": {
     "image/png": "[encoded data removed]"
    }
   },
   "cell_type": "markdown",
   "metadata": {},
   "source": [
    "![IdealOtto.png](attachment:IdealOtto.png)"
   ]
  },
  {
   "cell_type": "markdown",
   "metadata": {},
   "source": [
    "# Air-Standard Assumptions"
   ]
  },
  {
   "cell_type": "markdown",
   "metadata": {},
   "source": [
    "    1.  The working fluid is air, which continuously circulates in a closed loop and always behaves as an ideal gas.\n",
    "    2.  All the processes that make up the cycle are internally reversible.\n",
    "    3.  The combustion process is replaced by a heat-addition process from an external source.\n",
    "    4.  The exhaust process is replaced by a heat-rejection process that restores the working fluid to its initial state.\n",
    "\n",
    "The above 4 statements sum up the Air Standard Assumptions. Another assumption that is often utilized to simplify the analysis even more is that air has constant specific heats whose values are determined at room temperature (258C, or 778F). When this assumption is utilized, the air-standard assumptions are called the cold-air-standard assumptions. A cycle for which the air-standard assumptions are applicable is frequently referred to as an air-standard cycle."
   ]
  },
  {
   "cell_type": "markdown",
   "metadata": {},
   "source": [
    "# Notations & Formulae"
   ]
  },
  {
   "cell_type": "markdown",
   "metadata": {},
   "source": [
    "<b>Compression Ratio (r)            : </b>\n",
    "\n",
    "            r = v_max/v_min = v1/v2\n",
    "\n",
    "<b> Specific Heat Ratio (k)         : </b>\n",
    "\n",
    "            k = Cp/Cv    , where Cp and Cv are Constant-Pressure & Constant-Volume Specific Heats respectively.\n",
    "\n",
    "<b> Temperature(s)                  : </b> T1, T2, T3, T4\n",
    "\n",
    "<b> Pressures(s)                    : </b> P1, P2, P3, P4, Mean Effective Pressure (MEP)\n",
    "\n",
    "<b> Specific Volume(s)              : </b> v1, v2, v3, v4\n",
    "\n",
    "<b> Specific Heat Addition (q_in)   : </b>\n",
    "\n",
    "            q_in = Cv*(T3-T2)\n",
    "            \n",
    "<b> Specific Heat Rejection (q_out) : </b>\n",
    "\n",
    "            q_out = Cv*(T4-T1)\n",
    "            \n",
    "<b> Specific Work Output (w_net)    : </b>\n",
    "\n",
    "            w_net = q_in - q_out\n",
    "            \n",
    "<b> Efficiency (eta)                : </b>\n",
    "\n",
    "            eta = w_net/q_in = (q_in - q_out)/q_in\n",
    "            \n",
    "            eta = 1 - (1/(r^(k-1)))"
   ]
  },
  {
   "cell_type": "markdown",
   "metadata": {},
   "source": [
    "# Conventions Followed"
   ]
  },
  {
   "cell_type": "code",
   "execution_count": 1,
   "metadata": {},
   "outputs": [
    {
     "name": "stdout",
     "output_type": "stream",
     "text": [
      "SI Units to be followed:\n",
      "---------------------------------------------------------------------------------------------------\n",
      "|            Entity               | Symbol(s) used |  Units  |          Units in brief            |\n",
      "|-------------------------------------------------------------------------------------------------|\n",
      "|           Pressures             | [P1,P2,P3,P4]  |  kPa    |           Kilo Pascal              |\n",
      "|         Temperatures            | [T1,T2,T3,T4]  |  K      |             Kelvin                 |\n",
      "|       Specific Volumes          | [v1,v2,v3,v4]  |  m^3    |           Cubic metres             |\n",
      "|        Heat addition            |      q_in      |  kJ/kg  |       Kilo Joule per Kilogram      |\n",
      "|        Heat rejection           |      q_out     |  kJ/kg  |       Kilo Joule per Kilogram      |\n",
      "|          Work Output            |      w_net     |  kJ/kg  |       Kilo Joule per Kilogram      |\n",
      "|          Efficiency             |      eta       |   NA    |          Dimensionless             |\n",
      "|      Compression Ratio          |       r        |   NA    |          Dimensionless             |\n",
      "| Specific Heat @ Constant Volume |       Cv       |  kJ/kgK | Kilo Joule per Kelvin per Kilogram |\n",
      "|         Gas Constant            |       R        |  kJ/kgK | Kilo Joule per Kelvin per Kilogram |\n",
      "---------------------------------------------------------------------------------------------------\n"
     ]
    }
   ],
   "source": [
    "print('SI Units to be followed:')\n",
    "print('---------------------------------------------------------------------------------------------------')\n",
    "print('|            Entity               | Symbol(s) used |  Units  |          Units in brief            |')\n",
    "print('|-------------------------------------------------------------------------------------------------|')\n",
    "print('|           Pressures             | [P1,P2,P3,P4]  |  kPa    |           Kilo Pascal              |')\n",
    "print('|         Temperatures            | [T1,T2,T3,T4]  |  K      |             Kelvin                 |')\n",
    "print('|       Specific Volumes          | [v1,v2,v3,v4]  |  m^3    |           Cubic metres             |')\n",
    "print('|        Heat addition            |      q_in      |  kJ/kg  |       Kilo Joule per Kilogram      |')\n",
    "print('|        Heat rejection           |      q_out     |  kJ/kg  |       Kilo Joule per Kilogram      |')\n",
    "print('|          Work Output            |      w_net     |  kJ/kg  |       Kilo Joule per Kilogram      |')\n",
    "print('|          Efficiency             |      eta       |   NA    |          Dimensionless             |')\n",
    "print('|      Compression Ratio          |       r        |   NA    |          Dimensionless             |')\n",
    "print('| Specific Heat @ Constant Volume |       Cv       |  kJ/kgK | Kilo Joule per Kelvin per Kilogram |')\n",
    "print('|         Gas Constant            |       R        |  kJ/kgK | Kilo Joule per Kelvin per Kilogram |')\n",
    "print('---------------------------------------------------------------------------------------------------')"
   ]
  },
  {
   "cell_type": "markdown",
   "metadata": {},
   "source": [
    "# Methods & Attributes"
   ]
  },
  {
   "cell_type": "code",
   "execution_count": 2,
   "metadata": {},
   "outputs": [
    {
     "name": "stdout",
     "output_type": "stream",
     "text": [
      "______________________________________________________________________________________________________________\n",
      "|   Executable Component    |  Component Type  |                          Utility                            |\n",
      "|___________________________|__________________|_____________________________________________________________|\n",
      "|                           |                  |  -> Allows to define a state with P, T & v values.          |\n",
      "|                           |                  |     {P - Pressure ; T - Temperature ; v - Specific Volume}  |\n",
      "|                           |                  |  -> Input format (default : \"unknown\" for all 4 variables)- |\n",
      "| define_state(state,P,T,v) |      Method      |     state : An integer in the range[1,4] both inclusive     |\n",
      "|                           |                  |     P     : Float or Integer if known else Symbol wrt state |\n",
      "|                           |                  |     T     : Float or Integer if known else Symbol wrt state |\n",
      "|                           |                  |     v     : Float or Integer if known else Symbol wrt state |\n",
      "|---------------------------|------------------|-------------------------------------------------------------|\n",
      "|                           |                  |  -> Allows to add heat addition value.                      |\n",
      "|                           |                  |     {q_in - Specific Heat Addition}                         |\n",
      "|  add_heat_addition(q_in)  |      Method      |  -> Input format (default set to \"unknown\")-                |\n",
      "|                           |                  |     q_in  : Float or Integer if known else Symbol           |\n",
      "|---------------------------|------------------|-------------------------------------------------------------|\n",
      "|                           |                  |  -> Allows to add heat rejection value.                     |\n",
      "|                           |                  |     {q_out - Specific Heat Rejection}                       |\n",
      "| add_heat_rejection(q_out) |      Method      |  -> Input format (default set to \"unknown\")-                |\n",
      "|                           |                  |     q_out  : Float or Integer if known else Symbol          |\n",
      "|---------------------------|------------------|-------------------------------------------------------------|\n",
      "|                           |                  |  -> Allows to add work output value.                        |\n",
      "|                           |                  |     {w_net - Net Specific Work Output}                      |\n",
      "|  add_work_output(w_net)   |      Method      |  -> Input format (default set to \"unknown\")-                |\n",
      "|                           |                  |     w_net  : Float or Integer if known else Symbol          |\n",
      "|---------------------------|------------------|-------------------------------------------------------------|\n",
      "|                           |                  |  -> Allows to add efficiency value.                         |\n",
      "|                           |                  |     {eta - Efficiency of the Engine}                        |\n",
      "|  add_efficiency(eta)      |      Method      |  -> Input format (default set to \"unknown\")-                |\n",
      "|                           |                  |     eta  : Float or Integer if known else Symbol            |\n",
      "|---------------------------|------------------|-------------------------------------------------------------|\n",
      "|                           |                  |  -> Performs the analytical task of the problem statement   |\n",
      "|                           |                  |     using CASA. {CASA - Cold air standard assumptions}      |\n",
      "|   analysis_using_CASA()   |      Method      |  -> No input required.                                      |\n",
      "|                           |                  |  -> Concludes with a message \"Analysis Complete\".           |\n",
      "|---------------------------|------------------|-------------------------------------------------------------|\n",
      "|                           |                  |  -> Enables to view values of Pressures, Temperatures, and  |\n",
      "|      state_variables      |     Attribute    |     Specific Volumes in respective states.                  |\n",
      "|                           |                  |  -> Returns a dictionary with respective parameters.        |\n",
      "|---------------------------|------------------|-------------------------------------------------------------|\n",
      "|                           |                  |  -> Enables to view values of q_in, q_out and w_net.        |\n",
      "|       path_variables      |     Attribute    |  -> Returns a dictionary with respective parameters.        |\n",
      "|                           |                  |                                                             |\n",
      "|---------------------------|------------------|-------------------------------------------------------------|\n",
      "|                           |                  |  -> Displays the analytical value of efficiency (eta).      |\n",
      "|        efficiency         |     Attribute    |  -> Outputs a float value of efficiency.                    |\n",
      "|                           |                  |                                                             |\n",
      "|---------------------------|------------------|-------------------------------------------------------------|\n",
      "|                           |                  |  -> Enables to calculate Efficiency without executing any   |\n",
      "|                           |                  |     other commands.                                         |\n",
      "|   get_efficiency(new_r)   |      Method      |  -> Uses CASA (takes in value for compression ratio).       |\n",
      "|                           |                  |  -> Input format (default value set to 8)-                  |\n",
      "|                           |                  |     new_r : Integer                                         |\n",
      "|---------------------------|------------------|-------------------------------------------------------------|\n",
      "|           r               |     Attribute    |  -> Displays the Compression ratio value (Default set to 8) |\n",
      "|---------------------------|------------------|-------------------------------------------------------------|\n",
      "|           k               |     Attribute    |  -> Displays Specific heat ratio value (default set t0 1.4) |\n",
      "|---------------------------|------------------|-------------------------------------------------------------|\n",
      "|           Cv              |     Attribute    |  -> Displays Specific Heat @ Constant Volume(Default=0.718) |\n",
      "|---------------------------|------------------|-------------------------------------------------------------|\n",
      "|           R               |     Attribute    |  -> Displays Gas constant value (Default set to 0.287)      |\n",
      "|___________________________|__________________|_____________________________________________________________|\n"
     ]
    }
   ],
   "source": [
    "print('______________________________________________________________________________________________________________')\n",
    "print('|   Executable Component    |  Component Type  |                          Utility                            |')\n",
    "print('|___________________________|__________________|_____________________________________________________________|')\n",
    "print('|                           |                  |  -> Allows to define a state with P, T & v values.          |') \n",
    "print('|                           |                  |     {P - Pressure ; T - Temperature ; v - Specific Volume}  |')\n",
    "print('|                           |                  |  -> Input format (default : \"unknown\" for all 4 variables)- |')\n",
    "print('| define_state(state,P,T,v) |      Method      |     state : An integer in the range[1,4] both inclusive     |')\n",
    "print('|                           |                  |     P     : Float or Integer if known else Symbol wrt state |')\n",
    "print('|                           |                  |     T     : Float or Integer if known else Symbol wrt state |')\n",
    "print('|                           |                  |     v     : Float or Integer if known else Symbol wrt state |')\n",
    "print('|---------------------------|------------------|-------------------------------------------------------------|')\n",
    "print('|                           |                  |  -> Allows to add heat addition value.                      |')\n",
    "print('|                           |                  |     {q_in - Specific Heat Addition}                         |')\n",
    "print('|  add_heat_addition(q_in)  |      Method      |  -> Input format (default set to \"unknown\")-                |')\n",
    "print('|                           |                  |     q_in  : Float or Integer if known else Symbol           |')\n",
    "print('|---------------------------|------------------|-------------------------------------------------------------|')\n",
    "print('|                           |                  |  -> Allows to add heat rejection value.                     |')\n",
    "print('|                           |                  |     {q_out - Specific Heat Rejection}                       |')\n",
    "print('| add_heat_rejection(q_out) |      Method      |  -> Input format (default set to \"unknown\")-                |')\n",
    "print('|                           |                  |     q_out  : Float or Integer if known else Symbol          |')\n",
    "print('|---------------------------|------------------|-------------------------------------------------------------|')\n",
    "print('|                           |                  |  -> Allows to add work output value.                        |')\n",
    "print('|                           |                  |     {w_net - Net Specific Work Output}                      |')\n",
    "print('|  add_work_output(w_net)   |      Method      |  -> Input format (default set to \"unknown\")-                |')\n",
    "print('|                           |                  |     w_net  : Float or Integer if known else Symbol          |')\n",
    "print('|---------------------------|------------------|-------------------------------------------------------------|')\n",
    "print('|                           |                  |  -> Allows to add efficiency value.                         |')\n",
    "print('|                           |                  |     {eta - Efficiency of the Engine}                        |')\n",
    "print('|  add_efficiency(eta)      |      Method      |  -> Input format (default set to \"unknown\")-                |')\n",
    "print('|                           |                  |     eta  : Float or Integer if known else Symbol            |')\n",
    "print('|---------------------------|------------------|-------------------------------------------------------------|')\n",
    "print('|                           |                  |  -> Performs the analytical task of the problem statement   |')\n",
    "print('|                           |                  |     using CASA. {CASA - Cold air standard assumptions}      |')\n",
    "print('|   analysis_using_CASA()   |      Method      |  -> No input required.                                      |')\n",
    "print('|                           |                  |  -> Concludes with a message \"Analysis Complete\".           |')\n",
    "print('|---------------------------|------------------|-------------------------------------------------------------|')\n",
    "print('|                           |                  |  -> Enables to view values of Pressures, Temperatures, and  |')\n",
    "print('|      state_variables      |     Attribute    |     Specific Volumes in respective states.                  |')\n",
    "print('|                           |                  |  -> Returns a dictionary with respective parameters.        |')\n",
    "print('|---------------------------|------------------|-------------------------------------------------------------|')\n",
    "print('|                           |                  |  -> Enables to view values of q_in, q_out and w_net.        |')\n",
    "print('|       path_variables      |     Attribute    |  -> Returns a dictionary with respective parameters.        |')\n",
    "print('|                           |                  |                                                             |')\n",
    "print('|---------------------------|------------------|-------------------------------------------------------------|')\n",
    "print('|                           |                  |  -> Displays the analytical value of efficiency (eta).      |')\n",
    "print('|        efficiency         |     Attribute    |  -> Outputs a float value of efficiency.                    |')\n",
    "print('|                           |                  |                                                             |')\n",
    "print('|---------------------------|------------------|-------------------------------------------------------------|')\n",
    "print('|                           |                  |  -> Enables to calculate Efficiency without executing any   |')\n",
    "print('|                           |                  |     other commands.                                         |')\n",
    "print('|   get_efficiency(new_r)   |      Method      |  -> Uses CASA (takes in value for compression ratio).       |')\n",
    "print('|                           |                  |  -> Input format (default value set to 8)-                  |')\n",
    "print('|                           |                  |     new_r : Integer                                         |')\n",
    "print('|---------------------------|------------------|-------------------------------------------------------------|')\n",
    "print('|           r               |     Attribute    |  -> Displays the Compression ratio value (Default set to 8) |')\n",
    "print('|---------------------------|------------------|-------------------------------------------------------------|')\n",
    "print('|           k               |     Attribute    |  -> Displays Specific heat ratio value (default set t0 1.4) |')\n",
    "print('|---------------------------|------------------|-------------------------------------------------------------|')\n",
    "print('|           Cv              |     Attribute    |  -> Displays Specific Heat @ Constant Volume(Default=0.718) |')\n",
    "print('|---------------------------|------------------|-------------------------------------------------------------|')\n",
    "print('|           R               |     Attribute    |  -> Displays Gas constant value (Default set to 0.287)      |')\n",
    "print('|___________________________|__________________|_____________________________________________________________|')"
   ]
  },
  {
   "cell_type": "markdown",
   "metadata": {},
   "source": [
    "# Procedure\n",
    "    1. Import necessary Libraries - Here, we need -\n",
    "        1.1 Sympy      - for converting unknown variables to symbols.\n",
    "        1.2 Numpy      - for Numpy array operations in Plotting P-v diagrams.\n",
    "        1.3 Matplotlib - for Plotting P-v diagrams.\n",
    "    \n",
    "    2. Instantiate the class \"IdealOtto\". Enter values for r, k, Cv and R if analyzing with substance other than air. Else, the default values are set to that of air.\n",
    "    \n",
    "    3. Define Unknown variables / yet to be known variables as symbols by calling symbols() from Sympy.\n",
    "    \n",
    "    4. Assigning values and symbols of variables using the given methods respectively and accordingly as per the problem statement(s).\n",
    "    \n",
    "    5. Once the assiging work is done properly, execute \"analysis_using_CASA\" method to start analyzing the given problem. This method concludes with a message \"Analysis Complete\" and also plots the P-v diagram according to the problem.\n",
    "    \n",
    "    6. Execute \"state_variables\", \"path_variables\" and \"efficiency\" for checking the final solved values.\n",
    "    \n",
    "    7. The \"get_efficiency(new_r)\" method allows the user to calculate the efficiency of an Ideal Otto Cycle based on Cold Air-Standard Assumptions. It takes in a value for new compression ratio; its default value is set to 8.\n",
    "    \n",
    "    "
   ]
  },
  {
   "cell_type": "markdown",
   "metadata": {},
   "source": [
    "<h2>Resources</h2>\n",
    "\n",
    "Check \"Python Code - Ideal Otto Cycle using Python\" for Python Code. \n",
    "\n",
    "Check \"Examples - Ideal Otto Cycle using Python\" for example problems solved using the Python code."
   ]
  },
  {
   "cell_type": "markdown",
   "metadata": {},
   "source": [
    "# References:\n",
    "    1. Yunus A. Cengel & Michael A. Boles, \"Thermodynamics - An Engineering Approach\".\n",
    "    2. P.K. Nag, \"Basic & Applied Thermodynamics\"\n",
    "    3. Python - Documentation\n",
    "    4. Stack Overflow"
   ]
  }
 ],
 "metadata": {
  "kernelspec": {
   "display_name": "Python 3",
   "language": "python",
   "name": "python3"
  },
  "language_info": {
   "codemirror_mode": {
    "name": "ipython",
    "version": 3
   },
   "file_extension": ".py",
   "mimetype": "text/x-python",
   "name": "python",
   "nbconvert_exporter": "python",
   "pygments_lexer": "ipython3",
   "version": "3.7.6"
  }
 },
 "nbformat": 4,
 "nbformat_minor": 4
}
