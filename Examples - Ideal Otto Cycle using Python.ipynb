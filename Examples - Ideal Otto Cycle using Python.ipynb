{
 "cells": [
  {
   "cell_type": "markdown",
   "metadata": {},
   "source": [
    " # Examples"
   ]
  },
  {
   "cell_type": "markdown",
   "metadata": {},
   "source": [
    "---------------------------------"
   ]
  },
  {
   "cell_type": "markdown",
   "metadata": {},
   "source": [
    "# Problem-1\n",
    "<b>The Compression ratio of an Air-Standard otto Cycle is 9.5. Prior to the isentropic compression process, the air is at 100kPa and 308K. The Temperature at the end of the isentropic expansion process is 800K. Using Cold Air-Standard Assumptions, determine the rest of the state variables, energy changes and efficiency of the cycle.</b>\n",
    "\n",
    "Given: { r : 9.5, P1 : 100, T1 : 308, T4 : 800 }"
   ]
  },
  {
   "cell_type": "markdown",
   "metadata": {},
   "source": [
    "<h3>Importing Necessary Libraries</h3>"
   ]
  },
  {
   "cell_type": "code",
   "execution_count": 2,
   "metadata": {},
   "outputs": [],
   "source": [
    "import matplotlib.pyplot as plt\n",
    "import numpy as np\n",
    "from sympy import *"
   ]
  },
  {
   "cell_type": "code",
   "execution_count": 3,
   "metadata": {},
   "outputs": [],
   "source": [
    "class IdealOtto:\n",
    "    \n",
    "    def __init__(self,r=8,k=1.4,R=0.287,Cv=0.718):\n",
    "        print('Ideal Otto Cycle')\n",
    "        print('----------------')\n",
    "        print()\n",
    "        print('SI Units to be followed:')\n",
    "        print('---------------------------------------------------------------------------------------------------')\n",
    "        print('|            Entity               | Symbol(s) used |  Units  |          Units in brief            |')\n",
    "        print('|-------------------------------------------------------------------------------------------------|')\n",
    "        print('|           Pressures             | [P1,P2,P3,P4]  |  kPa    |           Kilo Pascal              |')\n",
    "        print('|         Temperatures            | [T1,T2,T3,T4]  |  K      |             Kelvin                 |')\n",
    "        print('|       Specific Volumes          | [v1,v2,v3,v4]  |  m^3    |           Cubic metres             |')\n",
    "        print('|        Heat addition            |      q_in      |  kJ/kg  |       Kilo Joule per Kilogram      |')\n",
    "        print('|        Heat rejection           |      q_out     |  kJ/kg  |       Kilo Joule per Kilogram      |')\n",
    "        print('|          Work Output            |      w_net     |  kJ/kg  |       Kilo Joule per Kilogram      |')\n",
    "        print('|          Efficiency             |      eta       |   NA    |          Dimensionless             |')\n",
    "        print('|      Compression Ratio          |       r        |   NA    |          Dimensionless             |')\n",
    "        print('| Specific Heat @ Constant Volume |       Cv       |  kJ/kgK | Kilo Joule per Kelvin per Kilogram |')\n",
    "        print('|         Gas Constant            |       R        |  kJ/kgK | Kilo Joule per Kelvin per Kilogram |')\n",
    "        print('---------------------------------------------------------------------------------------------------')\n",
    "        print()\n",
    "        #Defining default values for r, R, Cv and k\n",
    "        self.r = r\n",
    "        self.k = k\n",
    "        self.R = R\n",
    "        self.Cv = Cv\n",
    "        print('______________________________________________________________________________________________________________')\n",
    "        print('|   Executable Component    |  Component Type  |                          Utility                            |')\n",
    "        print('|___________________________|__________________|_____________________________________________________________|')\n",
    "        print('|                           |                  |  -> Allows to define a state with P, T & v values.          |') \n",
    "        print('|                           |                  |     {P - Pressure ; T - Temperature ; v - Specific Volume}  |')\n",
    "        print('|                           |                  |  -> Input format (default : \"unknown\" for all 4 variables)- |')\n",
    "        print('| define_state(state,P,T,v) |      Method      |     state : An integer in the range[1,4] both inclusive     |')\n",
    "        print('|                           |                  |     P     : Float or Integer if known else Symbol wrt state |')\n",
    "        print('|                           |                  |     T     : Float or Integer if known else Symbol wrt state |')\n",
    "        print('|                           |                  |     v     : Float or Integer if known else Symbol wrt state |')\n",
    "        print('|---------------------------|------------------|-------------------------------------------------------------|')\n",
    "        print('|                           |                  |  -> Allows to add heat addition value.                      |')\n",
    "        print('|                           |                  |     {q_in - Specific Heat Addition}                         |')\n",
    "        print('|  add_heat_addition(q_in)  |      Method      |  -> Input format (default set to \"unknown\")-                |')\n",
    "        print('|                           |                  |     q_in  : Float or Integer if known else Symbol           |')\n",
    "        print('|---------------------------|------------------|-------------------------------------------------------------|')\n",
    "        print('|                           |                  |  -> Allows to add heat rejection value.                     |')\n",
    "        print('|                           |                  |     {q_out - Specific Heat Rejection}                       |')\n",
    "        print('| add_heat_rejection(q_out) |      Method      |  -> Input format (default set to \"unknown\")-                |')\n",
    "        print('|                           |                  |     q_out  : Float or Integer if known else Symbol          |')\n",
    "        print('|---------------------------|------------------|-------------------------------------------------------------|')\n",
    "        print('|                           |                  |  -> Allows to add work output value.                        |')\n",
    "        print('|                           |                  |     {w_net - Net Specific Work Output}                      |')\n",
    "        print('|  add_work_output(w_net)   |      Method      |  -> Input format (default set to \"unknown\")-                |')\n",
    "        print('|                           |                  |     w_net  : Float or Integer if known else Symbol          |')\n",
    "        print('|---------------------------|------------------|-------------------------------------------------------------|')\n",
    "        print('|                           |                  |  -> Allows to add efficiency value.                         |')\n",
    "        print('|                           |                  |     {eta - Efficiency of the Engine}                        |')\n",
    "        print('|  add_efficiency(eta)      |      Method      |  -> Input format (default set to \"unknown\")-                |')\n",
    "        print('|                           |                  |     eta  : Float or Integer if known else Symbol            |')\n",
    "        print('|---------------------------|------------------|-------------------------------------------------------------|')\n",
    "        print('|                           |                  |  -> Performs the analytical task of the problem statement   |')\n",
    "        print('|                           |                  |     using CASA. {CASA - Cold air standard assumptions}      |')\n",
    "        print('|   analysis_using_CASA()   |      Method      |  -> No input required.                                      |')\n",
    "        print('|                           |                  |  -> Concludes with a message \"Analysis Complete\".           |')\n",
    "        print('|---------------------------|------------------|-------------------------------------------------------------|')\n",
    "        print('|                           |                  |  -> Enables to view values of Pressures, Temperatures, and  |')\n",
    "        print('|      state_variables      |     Attribute    |     Specific Volumes in respective states.                  |')\n",
    "        print('|                           |                  |  -> Returns a dictionary with respective parameters.        |')\n",
    "        print('|---------------------------|------------------|-------------------------------------------------------------|')\n",
    "        print('|                           |                  |  -> Enables to view values of q_in, q_out and w_net.        |')\n",
    "        print('|       path_variables      |     Attribute    |  -> Returns a dictionary with respective parameters.        |')\n",
    "        print('|                           |                  |                                                             |')\n",
    "        print('|---------------------------|------------------|-------------------------------------------------------------|')\n",
    "        print('|                           |                  |  -> Displays the analytical value of efficiency (eta).      |')\n",
    "        print('|        efficiency         |     Attribute    |  -> Outputs a float value of efficiency.                    |')\n",
    "        print('|                           |                  |                                                             |')\n",
    "        print('|---------------------------|------------------|-------------------------------------------------------------|')\n",
    "        print('|                           |                  |  -> Enables to calculate Efficiency without executing any   |')\n",
    "        print('|                           |                  |     other commands.                                         |')\n",
    "        print('|   get_efficiency(new_r)   |      Method      |  -> Uses CASA (takes in value for compression ratio).       |')\n",
    "        print('|                           |                  |  -> Input format (default value set to 8)-                  |')\n",
    "        print('|                           |                  |     new_r : Integer                                         |')\n",
    "        print('|---------------------------|------------------|-------------------------------------------------------------|')\n",
    "        print('|           r               |     Attribute    |  -> Displays the Compression ratio value (Default set to 8) |')\n",
    "        print('|---------------------------|------------------|-------------------------------------------------------------|')\n",
    "        print('|           k               |     Attribute    |  -> Displays Specific heat ratio value (default set t0 1.4) |')\n",
    "        print('|---------------------------|------------------|-------------------------------------------------------------|')\n",
    "        print('|           Cv              |     Attribute    |  -> Displays Specific Heat @ Constant Volume(Default=0.718) |')\n",
    "        print('|---------------------------|------------------|-------------------------------------------------------------|')\n",
    "        print('|           R               |     Attribute    |  -> Displays Gas constant value (Default set to 0.287)      |')\n",
    "        print('|___________________________|__________________|_____________________________________________________________|')\n",
    "        print()\n",
    "        print('Default Values')\n",
    "        print({'Compression Ratio':self.r, 'Specific Heat Ratio':self.k, \n",
    "               'Gas Constant':self.R,'Constant volume specific heat':self.Cv})\n",
    "        #Defining state_variables for P,T and v\n",
    "        self.state_variables = {'State-1':{'P1':'unknown','T1':'unknown','v1':'unknown'},\n",
    "                                'State-2':{'P2':'unknown','T2':'unknown','v2':'unknown'},\n",
    "                                'State-3':{'P3':'unknown','T3':'unknown','v3':'unknown'},\n",
    "                                'State-4':{'P4':'unknown','T4':'unknown','v4':'unknown'},\n",
    "                               'Mean_effective_pressure':'unknown'}\n",
    "        #Defining path_variables for taking q_in,q_out and w_net\n",
    "        self.path_variables = {'q_in':'unknown','q_out':'unknown','w_net':'unknown'}\n",
    "        self.efficiency = 'unknown' #Defining efficiency for assigning it to eta\n",
    "            \n",
    "    def define_state(self,state,P='unknown',T='unknown',v='unknown'):\n",
    "        self.state_variables['State-'+str(state)[-1]]['P'+str(state)[-1]] = P\n",
    "        self.state_variables['State-'+str(state)[-1]]['T'+str(state)[-1]] = T\n",
    "        self.state_variables['State-'+str(state)[-1]]['v'+str(state)[-1]] = v\n",
    "\n",
    "    def add_heat_addition(self,q_in='unknown'):\n",
    "        self.path_variables['q_in'] = q_in\n",
    "        \n",
    "    def add_heat_rejection(self,q_out='unknown'):\n",
    "        self.path_variables['q_out'] = q_out\n",
    "        \n",
    "    def add_work_output(self,w_net='unknown'):\n",
    "        self.path_variables['w_net'] = w_net\n",
    "        \n",
    "    def add_efficiency(self,eta='unknown'):\n",
    "        self.efficiency = eta\n",
    "        \n",
    "    def get_efficiency(self,new_r=8):\n",
    "        eta = 1-(1/pow(new_r,self.k-1))\n",
    "        print('According to Cold Air-Standard Assumptions -')\n",
    "        print('For Compression ratio = {},'.format(new_r))\n",
    "        print('Efficiency of the Otto Cycle is {} i.e {}%'.format(round(float(eta),4),round(float(eta)*100,2)))\n",
    "        \n",
    "    def analysis_using_CASA(self):\n",
    "        #CASA - Cold Air Standard Assumptions\n",
    "        vl = [] #vl - variable list\n",
    "        for i in range(1,5):\n",
    "            for j in self.state_variables['State-'+str(i)].values():\n",
    "                vl.append(j)\n",
    "        for i in self.path_variables.values():\n",
    "            vl.append(i)\n",
    "        vl.append(self.efficiency)\n",
    "        # Taking all variables and constants within vl (variable list) and then assigning them respectively as below.\n",
    "        P1,T1,v1,P2,T2,v2,P3,T3,v3,P4,T4,v4,q_in,q_out,w_net,eta = vl\n",
    "        \n",
    "        t = tuple([i for i in vl if not isinstance(i,(int,float))]) #Taking only symbolic variables inside the tuple\n",
    "        \n",
    "        #Equations for solving\n",
    "        eq1 = Eq(T2,T1*pow(self.r,self.k-1))\n",
    "        eq2 = Eq(P2,P1*pow(self.r,self.k))\n",
    "        eq3 = Eq(self.Cv*(T3-T2),q_in)\n",
    "        eq4 = Eq(T3,T4*pow(self.r,self.k-1))\n",
    "        eq5 = Eq(P3*T2,P2*T3)\n",
    "        eq6 = Eq(P4*T1,P1*T4)\n",
    "        eq7 = Eq(self.Cv*(T4-T1),q_out)\n",
    "        eq8 = Eq(q_in-q_out,w_net)\n",
    "        eq9 = Eq(eta,w_net/q_in)\n",
    "        eq10 = Eq(P1*v1,self.R*T1)\n",
    "        eq11 = Eq(v1,self.r*v2)\n",
    "        eq12 = Eq(v4,v1)\n",
    "        eq13 = Eq(v3,v2)\n",
    "        \n",
    "        #Using solve() from Sympy to solve simultaneous equations\n",
    "        sol = solve((eq4,eq3,eq7,eq1,eq5,eq6,eq2,eq9,eq8,eq10,eq11,eq12,eq13),t,dict=True)\n",
    "        \n",
    "        #Assigning final values for respective variables\n",
    "        for i in range(1,5):\n",
    "            if(self.state_variables['State-'+str(i)]['P'+str(i)] in sol[0]):\n",
    "                self.state_variables['State-'+str(i)]['P'+str(i)] = round(float(sol[0][self.state_variables['State-'+str(i)]['P'+str(i)]]),3)\n",
    "            if(self.state_variables['State-'+str(i)]['T'+str(i)] in sol[0]):\n",
    "                self.state_variables['State-'+str(i)]['T'+str(i)] = round(float(sol[0][self.state_variables['State-'+str(i)]['T'+str(i)]]),3)\n",
    "            if(self.state_variables['State-'+str(i)]['v'+str(i)] in sol[0]):\n",
    "                self.state_variables['State-'+str(i)]['v'+str(i)] = round(float(sol[0][self.state_variables['State-'+str(i)]['v'+str(i)]]),3)\n",
    "        \n",
    "        if(self.path_variables['q_in'] in sol[0]):\n",
    "            self.path_variables['q_in'] = round(float(sol[0][q_in]),3)\n",
    "        if(self.path_variables['q_out'] in sol[0]):\n",
    "            self.path_variables['q_out'] = round(float(sol[0][q_out]),3)\n",
    "        if(self.path_variables['w_net'] in sol[0]):\n",
    "            self.path_variables['w_net'] = round(float(sol[0][w_net]),3)\n",
    "        \n",
    "        self.efficiency = round(float(sol[0][eta]),5)\n",
    "        self.state_variables['Mean_effective_pressure'] = self.path_variables['w_net']/(self.state_variables['State-1']['v1']-self.state_variables['State-2']['v2'])\n",
    "        \n",
    "        #Plotting P-V Diagram\n",
    "        Y1 = self.state_variables['State-1']['P1']\n",
    "        X1 = self.state_variables['State-1']['v1']\n",
    "        Y2 = self.state_variables['State-2']['P2']\n",
    "        X2 = self.state_variables['State-2']['v2']\n",
    "        Y3 = self.state_variables['State-3']['P3']\n",
    "        X3 = self.state_variables['State-3']['v3']\n",
    "        Y4 = self.state_variables['State-4']['P4']\n",
    "        X4 = self.state_variables['State-4']['v4']\n",
    "        \n",
    "        c1 = Y1*pow(X1,self.k)\n",
    "        c2 = Y3*pow(X3,self.k)\n",
    "        \n",
    "        #Isentropic Compression\n",
    "        x1 = np.linspace(X1,X2,num=50)\n",
    "        y1 = c1/pow(x1,self.k)\n",
    "        \n",
    "        #Constant Volume Heat Addition\n",
    "        y2 = np.linspace(y1[-1],Y3,num=50)\n",
    "        x2 = np.array([x1[-1] for i in range(50)])\n",
    "        \n",
    "        #Isentropic Expansion\n",
    "        x3 = np.linspace(X3,X4,num=50)\n",
    "        y3 = c2/pow(x3,self.k)\n",
    "        \n",
    "        #Constant Volume heat Rejection\n",
    "        y4 = np.linspace(y3[-1],Y1,num=50)\n",
    "        x4 = np.array([x3[-1] for i in range(50)])\n",
    "        \n",
    "        plt.plot(x1,y1,label='Isentropic Compression')\n",
    "        plt.plot(x2,y2,label='Constant Volume Heat Addition')\n",
    "        plt.plot(x3,y3,label='Isentropic Expansion')\n",
    "        plt.plot(x4,y4,label='Constant Volume Heat Rejection')\n",
    "        plt.xlabel('Specific Volume'),plt.ylabel('Pressure'),plt.title('P-V diagram of Ideal Otto Cycle')\n",
    "        plt.legend()\n",
    "        \n",
    "        print('Analysis Complete')\n",
    "        print('Execute state_variables, path_variables and efficiency for final values')"
   ]
  },
  {
   "cell_type": "markdown",
   "metadata": {},
   "source": [
    "<h3>Instantiating the Class \"IdealOtto</h3>"
   ]
  },
  {
   "cell_type": "code",
   "execution_count": 4,
   "metadata": {},
   "outputs": [
    {
     "name": "stdout",
     "output_type": "stream",
     "text": [
      "Ideal Otto Cycle\n",
      "----------------\n",
      "\n",
      "SI Units to be followed:\n",
      "---------------------------------------------------------------------------------------------------\n",
      "|            Entity               | Symbol(s) used |  Units  |          Units in brief            |\n",
      "|-------------------------------------------------------------------------------------------------|\n",
      "|           Pressures             | [P1,P2,P3,P4]  |  kPa    |           Kilo Pascal              |\n",
      "|         Temperatures            | [T1,T2,T3,T4]  |  K      |             Kelvin                 |\n",
      "|       Specific Volumes          | [v1,v2,v3,v4]  |  m^3    |           Cubic metres             |\n",
      "|        Heat addition            |      q_in      |  kJ/kg  |       Kilo Joule per Kilogram      |\n",
      "|        Heat rejection           |      q_out     |  kJ/kg  |       Kilo Joule per Kilogram      |\n",
      "|          Work Output            |      w_net     |  kJ/kg  |       Kilo Joule per Kilogram      |\n",
      "|          Efficiency             |      eta       |   NA    |          Dimensionless             |\n",
      "|      Compression Ratio          |       r        |   NA    |          Dimensionless             |\n",
      "| Specific Heat @ Constant Volume |       Cv       |  kJ/kgK | Kilo Joule per Kelvin per Kilogram |\n",
      "|         Gas Constant            |       R        |  kJ/kgK | Kilo Joule per Kelvin per Kilogram |\n",
      "---------------------------------------------------------------------------------------------------\n",
      "\n",
      "______________________________________________________________________________________________________________\n",
      "|   Executable Component    |  Component Type  |                          Utility                            |\n",
      "|___________________________|__________________|_____________________________________________________________|\n",
      "|                           |                  |  -> Allows to define a state with P, T & v values.          |\n",
      "|                           |                  |     {P - Pressure ; T - Temperature ; v - Specific Volume}  |\n",
      "|                           |                  |  -> Input format (default : \"unknown\" for all 4 variables)- |\n",
      "| define_state(state,P,T,v) |      Method      |     state : An integer in the range[1,4] both inclusive     |\n",
      "|                           |                  |     P     : Float or Integer if known else Symbol wrt state |\n",
      "|                           |                  |     T     : Float or Integer if known else Symbol wrt state |\n",
      "|                           |                  |     v     : Float or Integer if known else Symbol wrt state |\n",
      "|---------------------------|------------------|-------------------------------------------------------------|\n",
      "|                           |                  |  -> Allows to add heat addition value.                      |\n",
      "|                           |                  |     {q_in - Specific Heat Addition}                         |\n",
      "|  add_heat_addition(q_in)  |      Method      |  -> Input format (default set to \"unknown\")-                |\n",
      "|                           |                  |     q_in  : Float or Integer if known else Symbol           |\n",
      "|---------------------------|------------------|-------------------------------------------------------------|\n",
      "|                           |                  |  -> Allows to add heat rejection value.                     |\n",
      "|                           |                  |     {q_out - Specific Heat Rejection}                       |\n",
      "| add_heat_rejection(q_out) |      Method      |  -> Input format (default set to \"unknown\")-                |\n",
      "|                           |                  |     q_out  : Float or Integer if known else Symbol          |\n",
      "|---------------------------|------------------|-------------------------------------------------------------|\n",
      "|                           |                  |  -> Allows to add work output value.                        |\n",
      "|                           |                  |     {w_net - Net Specific Work Output}                      |\n",
      "|  add_work_output(w_net)   |      Method      |  -> Input format (default set to \"unknown\")-                |\n",
      "|                           |                  |     w_net  : Float or Integer if known else Symbol          |\n",
      "|---------------------------|------------------|-------------------------------------------------------------|\n",
      "|                           |                  |  -> Allows to add efficiency value.                         |\n",
      "|                           |                  |     {eta - Efficiency of the Engine}                        |\n",
      "|  add_efficiency(eta)      |      Method      |  -> Input format (default set to \"unknown\")-                |\n",
      "|                           |                  |     eta  : Float or Integer if known else Symbol            |\n",
      "|---------------------------|------------------|-------------------------------------------------------------|\n",
      "|                           |                  |  -> Performs the analytical task of the problem statement   |\n",
      "|                           |                  |     using CASA. {CASA - Cold air standard assumptions}      |\n",
      "|   analysis_using_CASA()   |      Method      |  -> No input required.                                      |\n",
      "|                           |                  |  -> Concludes with a message \"Analysis Complete\".           |\n",
      "|---------------------------|------------------|-------------------------------------------------------------|\n",
      "|                           |                  |  -> Enables to view values of Pressures, Temperatures, and  |\n",
      "|      state_variables      |     Attribute    |     Specific Volumes in respective states.                  |\n",
      "|                           |                  |  -> Returns a dictionary with respective parameters.        |\n",
      "|---------------------------|------------------|-------------------------------------------------------------|\n",
      "|                           |                  |  -> Enables to view values of q_in, q_out and w_net.        |\n",
      "|       path_variables      |     Attribute    |  -> Returns a dictionary with respective parameters.        |\n",
      "|                           |                  |                                                             |\n",
      "|---------------------------|------------------|-------------------------------------------------------------|\n",
      "|                           |                  |  -> Displays the analytical value of efficiency (eta).      |\n",
      "|        efficiency         |     Attribute    |  -> Outputs a float value of efficiency.                    |\n",
      "|                           |                  |                                                             |\n",
      "|---------------------------|------------------|-------------------------------------------------------------|\n",
      "|                           |                  |  -> Enables to calculate Efficiency without executing any   |\n",
      "|                           |                  |     other commands.                                         |\n",
      "|   get_efficiency(new_r)   |      Method      |  -> Uses CASA (takes in value for compression ratio).       |\n",
      "|                           |                  |  -> Input format (default value set to 8)-                  |\n",
      "|                           |                  |     new_r : Integer                                         |\n",
      "|---------------------------|------------------|-------------------------------------------------------------|\n",
      "|           r               |     Attribute    |  -> Displays the Compression ratio value (Default set to 8) |\n",
      "|---------------------------|------------------|-------------------------------------------------------------|\n",
      "|           k               |     Attribute    |  -> Displays Specific heat ratio value (default set t0 1.4) |\n",
      "|---------------------------|------------------|-------------------------------------------------------------|\n",
      "|           Cv              |     Attribute    |  -> Displays Specific Heat @ Constant Volume(Default=0.718) |\n",
      "|---------------------------|------------------|-------------------------------------------------------------|\n",
      "|           R               |     Attribute    |  -> Displays Gas constant value (Default set to 0.287)      |\n",
      "|___________________________|__________________|_____________________________________________________________|\n",
      "\n",
      "Default Values\n",
      "{'Compression Ratio': 9.5, 'Specific Heat Ratio': 1.4, 'Gas Constant': 0.287, 'Constant volume specific heat': 0.718}\n"
     ]
    }
   ],
   "source": [
    "cycle1 = IdealOtto(9.5)"
   ]
  },
  {
   "cell_type": "markdown",
   "metadata": {},
   "source": [
    "<h3>Defining unknown variables as symbols</h3>"
   ]
  },
  {
   "cell_type": "code",
   "execution_count": 5,
   "metadata": {},
   "outputs": [],
   "source": [
    "P3,P4,P2 = symbols('P3,P4,P2')\n",
    "v1,v2,v3,v4 = symbols('v1,v2,v3,v4')\n",
    "T2,T3 = symbols('T2,T3')\n",
    "q_in,q_out,w_net,eta = symbols('q_in,q_out,w_net,eta')"
   ]
  },
  {
   "cell_type": "markdown",
   "metadata": {},
   "source": [
    "<h3>Assigning Values and Symbols according to the problem statement</h3>"
   ]
  },
  {
   "cell_type": "code",
   "execution_count": 6,
   "metadata": {},
   "outputs": [],
   "source": [
    "cycle1.define_state(1,100,308,v1)\n",
    "cycle1.define_state(2,P2,T2,v2)\n",
    "cycle1.define_state(3,P3,T3,v3)\n",
    "cycle1.define_state(4,P4,800,v4)\n",
    "cycle1.add_heat_addition(q_in)\n",
    "cycle1.add_heat_rejection(q_out)\n",
    "cycle1.add_work_output(w_net)\n",
    "cycle1.add_efficiency(eta)"
   ]
  },
  {
   "cell_type": "code",
   "execution_count": 7,
   "metadata": {},
   "outputs": [
    {
     "data": {
      "text/plain": [
       "{'State-1': {'P1': 100, 'T1': 308, 'v1': v1},\n",
       " 'State-2': {'P2': P2, 'T2': T2, 'v2': v2},\n",
       " 'State-3': {'P3': P3, 'T3': T3, 'v3': v3},\n",
       " 'State-4': {'P4': P4, 'T4': 800, 'v4': v4},\n",
       " 'Mean_effective_pressure': 'unknown'}"
      ]
     },
     "execution_count": 7,
     "metadata": {},
     "output_type": "execute_result"
    }
   ],
   "source": [
    "cycle1.state_variables"
   ]
  },
  {
   "cell_type": "code",
   "execution_count": 8,
   "metadata": {},
   "outputs": [
    {
     "data": {
      "text/plain": [
       "{'q_in': q_in, 'q_out': q_out, 'w_net': w_net}"
      ]
     },
     "execution_count": 8,
     "metadata": {},
     "output_type": "execute_result"
    }
   ],
   "source": [
    "cycle1.path_variables"
   ]
  },
  {
   "cell_type": "code",
   "execution_count": 9,
   "metadata": {},
   "outputs": [
    {
     "data": {
      "text/latex": [
       "$\\displaystyle \\eta$"
      ],
      "text/plain": [
       "eta"
      ]
     },
     "execution_count": 9,
     "metadata": {},
     "output_type": "execute_result"
    }
   ],
   "source": [
    "cycle1.efficiency"
   ]
  },
  {
   "cell_type": "markdown",
   "metadata": {},
   "source": [
    "<h3>Performing Analysis</h3> "
   ]
  },
  {
   "cell_type": "code",
   "execution_count": 10,
   "metadata": {},
   "outputs": [
    {
     "name": "stdout",
     "output_type": "stream",
     "text": [
      "Analysis Complete\n",
      "Execute state_variables, path_variables and efficiency for final values\n"
     ]
    },
    {
     "data": {
      "image/png": "[encoded data removed]",
      "text/plain": [
       "<Figure size 432x288 with 1 Axes>"
      ]
     },
     "metadata": {
      "needs_background": "light"
     },
     "output_type": "display_data"
    }
   ],
   "source": [
    "cycle1.analysis_using_CASA()"
   ]
  },
  {
   "cell_type": "markdown",
   "metadata": {},
   "source": [
    "<h3>Checking for Final Values</h3>"
   ]
  },
  {
   "cell_type": "code",
   "execution_count": 11,
   "metadata": {},
   "outputs": [
    {
     "data": {
      "text/plain": [
       "{'State-1': {'P1': 100, 'T1': 308, 'v1': 0.884},\n",
       " 'State-2': {'P2': 2337.831, 'T2': 757.949, 'v2': 0.093},\n",
       " 'State-3': {'P3': 6072.287, 'T3': 1968.699, 'v3': 0.093},\n",
       " 'State-4': {'P4': 259.74, 'T4': 800, 'v4': 0.884},\n",
       " 'Mean_effective_pressure': 652.4184576485461}"
      ]
     },
     "execution_count": 11,
     "metadata": {},
     "output_type": "execute_result"
    }
   ],
   "source": [
    "cycle1.state_variables"
   ]
  },
  {
   "cell_type": "code",
   "execution_count": 12,
   "metadata": {},
   "outputs": [
    {
     "data": {
      "text/plain": [
       "{'q_in': 869.319, 'q_out': 353.256, 'w_net': 516.063}"
      ]
     },
     "execution_count": 12,
     "metadata": {},
     "output_type": "execute_result"
    }
   ],
   "source": [
    "cycle1.path_variables"
   ]
  },
  {
   "cell_type": "code",
   "execution_count": 13,
   "metadata": {},
   "outputs": [
    {
     "data": {
      "text/plain": [
       "0.59364"
      ]
     },
     "execution_count": 13,
     "metadata": {},
     "output_type": "execute_result"
    }
   ],
   "source": [
    "cycle1.efficiency"
   ]
  },
  {
   "cell_type": "markdown",
   "metadata": {},
   "source": [
    "<h3>Calculating efficiency for different compression ratio values</h3>"
   ]
  },
  {
   "cell_type": "code",
   "execution_count": 14,
   "metadata": {},
   "outputs": [
    {
     "name": "stdout",
     "output_type": "stream",
     "text": [
      "According to Cold Air-Standard Assumptions -\n",
      "For Compression ratio = 10.5,\n",
      "Efficiency of the Otto Cycle is 0.6096 i.e 60.96%\n"
     ]
    }
   ],
   "source": [
    "cycle1.get_efficiency(10.5)"
   ]
  },
  {
   "cell_type": "markdown",
   "metadata": {},
   "source": [
    "#END#"
   ]
  },
  {
   "cell_type": "markdown",
   "metadata": {},
   "source": [
    "----------------------------"
   ]
  },
  {
   "cell_type": "markdown",
   "metadata": {},
   "source": [
    "# Problem-2\n",
    "<b>An Ideal Otto Cycle has a compression ratio of 8. At the beginning of the compression process, air is at 100kPa and 300K, and 800kJ/kg of heat is transferred to air during the constant volume heat addition process. Based on the Cold Air-Standard Assumptions, find the rest of the state variables, energy requirements and efficiency.</b>\n",
    "\n",
    "Given: { r : 8, P1 : 100, T1 : 300, q_in = 800 }"
   ]
  },
  {
   "cell_type": "code",
   "execution_count": 15,
   "metadata": {},
   "outputs": [
    {
     "name": "stdout",
     "output_type": "stream",
     "text": [
      "Ideal Otto Cycle\n",
      "----------------\n",
      "\n",
      "SI Units to be followed:\n",
      "---------------------------------------------------------------------------------------------------\n",
      "|            Entity               | Symbol(s) used |  Units  |          Units in brief            |\n",
      "|-------------------------------------------------------------------------------------------------|\n",
      "|           Pressures             | [P1,P2,P3,P4]  |  kPa    |           Kilo Pascal              |\n",
      "|         Temperatures            | [T1,T2,T3,T4]  |  K      |             Kelvin                 |\n",
      "|       Specific Volumes          | [v1,v2,v3,v4]  |  m^3    |           Cubic metres             |\n",
      "|        Heat addition            |      q_in      |  kJ/kg  |       Kilo Joule per Kilogram      |\n",
      "|        Heat rejection           |      q_out     |  kJ/kg  |       Kilo Joule per Kilogram      |\n",
      "|          Work Output            |      w_net     |  kJ/kg  |       Kilo Joule per Kilogram      |\n",
      "|          Efficiency             |      eta       |   NA    |          Dimensionless             |\n",
      "|      Compression Ratio          |       r        |   NA    |          Dimensionless             |\n",
      "| Specific Heat @ Constant Volume |       Cv       |  kJ/kgK | Kilo Joule per Kelvin per Kilogram |\n",
      "|         Gas Constant            |       R        |  kJ/kgK | Kilo Joule per Kelvin per Kilogram |\n",
      "---------------------------------------------------------------------------------------------------\n",
      "\n",
      "______________________________________________________________________________________________________________\n",
      "|   Executable Component    |  Component Type  |                          Utility                            |\n",
      "|___________________________|__________________|_____________________________________________________________|\n",
      "|                           |                  |  -> Allows to define a state with P, T & v values.          |\n",
      "|                           |                  |     {P - Pressure ; T - Temperature ; v - Specific Volume}  |\n",
      "|                           |                  |  -> Input format (default : \"unknown\" for all 4 variables)- |\n",
      "| define_state(state,P,T,v) |      Method      |     state : An integer in the range[1,4] both inclusive     |\n",
      "|                           |                  |     P     : Float or Integer if known else Symbol wrt state |\n",
      "|                           |                  |     T     : Float or Integer if known else Symbol wrt state |\n",
      "|                           |                  |     v     : Float or Integer if known else Symbol wrt state |\n",
      "|---------------------------|------------------|-------------------------------------------------------------|\n",
      "|                           |                  |  -> Allows to add heat addition value.                      |\n",
      "|                           |                  |     {q_in - Specific Heat Addition}                         |\n",
      "|  add_heat_addition(q_in)  |      Method      |  -> Input format (default set to \"unknown\")-                |\n",
      "|                           |                  |     q_in  : Float or Integer if known else Symbol           |\n",
      "|---------------------------|------------------|-------------------------------------------------------------|\n",
      "|                           |                  |  -> Allows to add heat rejection value.                     |\n",
      "|                           |                  |     {q_out - Specific Heat Rejection}                       |\n",
      "| add_heat_rejection(q_out) |      Method      |  -> Input format (default set to \"unknown\")-                |\n",
      "|                           |                  |     q_out  : Float or Integer if known else Symbol          |\n",
      "|---------------------------|------------------|-------------------------------------------------------------|\n",
      "|                           |                  |  -> Allows to add work output value.                        |\n",
      "|                           |                  |     {w_net - Net Specific Work Output}                      |\n",
      "|  add_work_output(w_net)   |      Method      |  -> Input format (default set to \"unknown\")-                |\n",
      "|                           |                  |     w_net  : Float or Integer if known else Symbol          |\n",
      "|---------------------------|------------------|-------------------------------------------------------------|\n",
      "|                           |                  |  -> Allows to add efficiency value.                         |\n",
      "|                           |                  |     {eta - Efficiency of the Engine}                        |\n",
      "|  add_efficiency(eta)      |      Method      |  -> Input format (default set to \"unknown\")-                |\n",
      "|                           |                  |     eta  : Float or Integer if known else Symbol            |\n",
      "|---------------------------|------------------|-------------------------------------------------------------|\n",
      "|                           |                  |  -> Performs the analytical task of the problem statement   |\n",
      "|                           |                  |     using CASA. {CASA - Cold air standard assumptions}      |\n",
      "|   analysis_using_CASA()   |      Method      |  -> No input required.                                      |\n",
      "|                           |                  |  -> Concludes with a message \"Analysis Complete\".           |\n",
      "|---------------------------|------------------|-------------------------------------------------------------|\n",
      "|                           |                  |  -> Enables to view values of Pressures, Temperatures, and  |\n",
      "|      state_variables      |     Attribute    |     Specific Volumes in respective states.                  |\n",
      "|                           |                  |  -> Returns a dictionary with respective parameters.        |\n",
      "|---------------------------|------------------|-------------------------------------------------------------|\n",
      "|                           |                  |  -> Enables to view values of q_in, q_out and w_net.        |\n",
      "|       path_variables      |     Attribute    |  -> Returns a dictionary with respective parameters.        |\n",
      "|                           |                  |                                                             |\n",
      "|---------------------------|------------------|-------------------------------------------------------------|\n",
      "|                           |                  |  -> Displays the analytical value of efficiency (eta).      |\n",
      "|        efficiency         |     Attribute    |  -> Outputs a float value of efficiency.                    |\n",
      "|                           |                  |                                                             |\n",
      "|---------------------------|------------------|-------------------------------------------------------------|\n",
      "|                           |                  |  -> Enables to calculate Efficiency without executing any   |\n",
      "|                           |                  |     other commands.                                         |\n",
      "|   get_efficiency(new_r)   |      Method      |  -> Uses CASA (takes in value for compression ratio).       |\n",
      "|                           |                  |  -> Input format (default value set to 8)-                  |\n",
      "|                           |                  |     new_r : Integer                                         |\n",
      "|---------------------------|------------------|-------------------------------------------------------------|\n",
      "|           r               |     Attribute    |  -> Displays the Compression ratio value (Default set to 8) |\n",
      "|---------------------------|------------------|-------------------------------------------------------------|\n",
      "|           k               |     Attribute    |  -> Displays Specific heat ratio value (default set t0 1.4) |\n",
      "|---------------------------|------------------|-------------------------------------------------------------|\n",
      "|           Cv              |     Attribute    |  -> Displays Specific Heat @ Constant Volume(Default=0.718) |\n",
      "|---------------------------|------------------|-------------------------------------------------------------|\n",
      "|           R               |     Attribute    |  -> Displays Gas constant value (Default set to 0.287)      |\n",
      "|___________________________|__________________|_____________________________________________________________|\n",
      "\n",
      "Default Values\n",
      "{'Compression Ratio': 8, 'Specific Heat Ratio': 1.4, 'Gas Constant': 0.287, 'Constant volume specific heat': 0.718}\n"
     ]
    }
   ],
   "source": [
    "cycle2 = IdealOtto(8)"
   ]
  },
  {
   "cell_type": "code",
   "execution_count": 16,
   "metadata": {},
   "outputs": [],
   "source": [
    "P3,P4,P2 = symbols('P3,P4,P2')\n",
    "v1,v2,v3,v4 = symbols('v1,v2,v3,v4')\n",
    "T2,T3,T4 = symbols('T2,T3,T4')\n",
    "q_out,w_net,eta = symbols('q_out,w_net,eta')"
   ]
  },
  {
   "cell_type": "code",
   "execution_count": 17,
   "metadata": {},
   "outputs": [],
   "source": [
    "cycle2.define_state(1,100,300,v1)\n",
    "cycle2.define_state(2,P2,T2,v2)\n",
    "cycle2.define_state(3,P3,T3,v3)\n",
    "cycle2.define_state(4,P4,T4,v4)\n",
    "cycle2.add_heat_addition(800)\n",
    "cycle2.add_heat_rejection(q_out)\n",
    "cycle2.add_work_output(w_net)\n",
    "cycle2.add_efficiency(eta)"
   ]
  },
  {
   "cell_type": "code",
   "execution_count": 18,
   "metadata": {},
   "outputs": [
    {
     "data": {
      "text/plain": [
       "{'State-1': {'P1': 100, 'T1': 300, 'v1': v1},\n",
       " 'State-2': {'P2': P2, 'T2': T2, 'v2': v2},\n",
       " 'State-3': {'P3': P3, 'T3': T3, 'v3': v3},\n",
       " 'State-4': {'P4': P4, 'T4': T4, 'v4': v4},\n",
       " 'Mean_effective_pressure': 'unknown'}"
      ]
     },
     "execution_count": 18,
     "metadata": {},
     "output_type": "execute_result"
    }
   ],
   "source": [
    "cycle2.state_variables"
   ]
  },
  {
   "cell_type": "code",
   "execution_count": 19,
   "metadata": {},
   "outputs": [
    {
     "data": {
      "text/plain": [
       "{'q_in': 800, 'q_out': q_out, 'w_net': w_net}"
      ]
     },
     "execution_count": 19,
     "metadata": {},
     "output_type": "execute_result"
    }
   ],
   "source": [
    "cycle2.path_variables"
   ]
  },
  {
   "cell_type": "code",
   "execution_count": 20,
   "metadata": {},
   "outputs": [
    {
     "data": {
      "text/latex": [
       "$\\displaystyle \\eta$"
      ],
      "text/plain": [
       "eta"
      ]
     },
     "execution_count": 20,
     "metadata": {},
     "output_type": "execute_result"
    }
   ],
   "source": [
    "cycle2.efficiency"
   ]
  },
  {
   "cell_type": "code",
   "execution_count": 21,
   "metadata": {},
   "outputs": [
    {
     "name": "stdout",
     "output_type": "stream",
     "text": [
      "Analysis Complete\n",
      "Execute state_variables, path_variables and efficiency for final values\n"
     ]
    },
    {
     "data": {
      "image/png": "[encoded data removed]",
      "text/plain": [
       "<Figure size 432x288 with 1 Axes>"
      ]
     },
     "metadata": {
      "needs_background": "light"
     },
     "output_type": "display_data"
    }
   ],
   "source": [
    "cycle2.analysis_using_CASA()"
   ]
  },
  {
   "cell_type": "code",
   "execution_count": 22,
   "metadata": {},
   "outputs": [
    {
     "data": {
      "text/plain": [
       "{'State-1': {'P1': 100, 'T1': 300, 'v1': 0.861},\n",
       " 'State-2': {'P2': 1837.917, 'T2': 689.219, 'v2': 0.108},\n",
       " 'State-3': {'P3': 4809.134, 'T3': 1803.425, 'v3': 0.108},\n",
       " 'State-4': {'P4': 261.662, 'T4': 784.986, 'v4': 0.861},\n",
       " 'Mean_effective_pressure': 599.9734395750331}"
      ]
     },
     "execution_count": 22,
     "metadata": {},
     "output_type": "execute_result"
    }
   ],
   "source": [
    "cycle2.state_variables"
   ]
  },
  {
   "cell_type": "code",
   "execution_count": 23,
   "metadata": {},
   "outputs": [
    {
     "data": {
      "text/plain": [
       "{'q_in': 800, 'q_out': 348.22, 'w_net': 451.78}"
      ]
     },
     "execution_count": 23,
     "metadata": {},
     "output_type": "execute_result"
    }
   ],
   "source": [
    "cycle2.path_variables"
   ]
  },
  {
   "cell_type": "code",
   "execution_count": 24,
   "metadata": {},
   "outputs": [
    {
     "data": {
      "text/plain": [
       "0.56472"
      ]
     },
     "execution_count": 24,
     "metadata": {},
     "output_type": "execute_result"
    }
   ],
   "source": [
    "cycle2.efficiency"
   ]
  },
  {
   "cell_type": "markdown",
   "metadata": {},
   "source": [
    "#END#"
   ]
  },
  {
   "cell_type": "markdown",
   "metadata": {},
   "source": [
    "-----------------------"
   ]
  },
  {
   "cell_type": "markdown",
   "metadata": {},
   "source": [
    "# Problem-3\n",
    "An ideal Otto cycle has a compression ratio of 8. At the beginning of the compression process, air is at 95 kPa and 27C, and 750 kJ/kg of heat is transferred to air during the constant-volume heat-addition process. Taking into account the Cold Air-Standard Assumptions, determine -\n",
    "\n",
    "    (a) the pressure and temperature at the end of the heat- addition process\n",
    "    (b) the net work output\n",
    "    (c) the thermal efficiency\n",
    "    (d) the mean effective pressure for the cycle\n",
    "    \n",
    "Given: { r : 8, P1 : 95kPa, T1 : 300K, q_in : 750 kJ/kg}"
   ]
  },
  {
   "cell_type": "code",
   "execution_count": 25,
   "metadata": {},
   "outputs": [
    {
     "name": "stdout",
     "output_type": "stream",
     "text": [
      "Ideal Otto Cycle\n",
      "----------------\n",
      "\n",
      "SI Units to be followed:\n",
      "---------------------------------------------------------------------------------------------------\n",
      "|            Entity               | Symbol(s) used |  Units  |          Units in brief            |\n",
      "|-------------------------------------------------------------------------------------------------|\n",
      "|           Pressures             | [P1,P2,P3,P4]  |  kPa    |           Kilo Pascal              |\n",
      "|         Temperatures            | [T1,T2,T3,T4]  |  K      |             Kelvin                 |\n",
      "|       Specific Volumes          | [v1,v2,v3,v4]  |  m^3    |           Cubic metres             |\n",
      "|        Heat addition            |      q_in      |  kJ/kg  |       Kilo Joule per Kilogram      |\n",
      "|        Heat rejection           |      q_out     |  kJ/kg  |       Kilo Joule per Kilogram      |\n",
      "|          Work Output            |      w_net     |  kJ/kg  |       Kilo Joule per Kilogram      |\n",
      "|          Efficiency             |      eta       |   NA    |          Dimensionless             |\n",
      "|      Compression Ratio          |       r        |   NA    |          Dimensionless             |\n",
      "| Specific Heat @ Constant Volume |       Cv       |  kJ/kgK | Kilo Joule per Kelvin per Kilogram |\n",
      "|         Gas Constant            |       R        |  kJ/kgK | Kilo Joule per Kelvin per Kilogram |\n",
      "---------------------------------------------------------------------------------------------------\n",
      "\n",
      "______________________________________________________________________________________________________________\n",
      "|   Executable Component    |  Component Type  |                          Utility                            |\n",
      "|___________________________|__________________|_____________________________________________________________|\n",
      "|                           |                  |  -> Allows to define a state with P, T & v values.          |\n",
      "|                           |                  |     {P - Pressure ; T - Temperature ; v - Specific Volume}  |\n",
      "|                           |                  |  -> Input format (default : \"unknown\" for all 4 variables)- |\n",
      "| define_state(state,P,T,v) |      Method      |     state : An integer in the range[1,4] both inclusive     |\n",
      "|                           |                  |     P     : Float or Integer if known else Symbol wrt state |\n",
      "|                           |                  |     T     : Float or Integer if known else Symbol wrt state |\n",
      "|                           |                  |     v     : Float or Integer if known else Symbol wrt state |\n",
      "|---------------------------|------------------|-------------------------------------------------------------|\n",
      "|                           |                  |  -> Allows to add heat addition value.                      |\n",
      "|                           |                  |     {q_in - Specific Heat Addition}                         |\n",
      "|  add_heat_addition(q_in)  |      Method      |  -> Input format (default set to \"unknown\")-                |\n",
      "|                           |                  |     q_in  : Float or Integer if known else Symbol           |\n",
      "|---------------------------|------------------|-------------------------------------------------------------|\n",
      "|                           |                  |  -> Allows to add heat rejection value.                     |\n",
      "|                           |                  |     {q_out - Specific Heat Rejection}                       |\n",
      "| add_heat_rejection(q_out) |      Method      |  -> Input format (default set to \"unknown\")-                |\n",
      "|                           |                  |     q_out  : Float or Integer if known else Symbol          |\n",
      "|---------------------------|------------------|-------------------------------------------------------------|\n",
      "|                           |                  |  -> Allows to add work output value.                        |\n",
      "|                           |                  |     {w_net - Net Specific Work Output}                      |\n",
      "|  add_work_output(w_net)   |      Method      |  -> Input format (default set to \"unknown\")-                |\n",
      "|                           |                  |     w_net  : Float or Integer if known else Symbol          |\n",
      "|---------------------------|------------------|-------------------------------------------------------------|\n",
      "|                           |                  |  -> Allows to add efficiency value.                         |\n",
      "|                           |                  |     {eta - Efficiency of the Engine}                        |\n",
      "|  add_efficiency(eta)      |      Method      |  -> Input format (default set to \"unknown\")-                |\n",
      "|                           |                  |     eta  : Float or Integer if known else Symbol            |\n",
      "|---------------------------|------------------|-------------------------------------------------------------|\n",
      "|                           |                  |  -> Performs the analytical task of the problem statement   |\n",
      "|                           |                  |     using CASA. {CASA - Cold air standard assumptions}      |\n",
      "|   analysis_using_CASA()   |      Method      |  -> No input required.                                      |\n",
      "|                           |                  |  -> Concludes with a message \"Analysis Complete\".           |\n",
      "|---------------------------|------------------|-------------------------------------------------------------|\n",
      "|                           |                  |  -> Enables to view values of Pressures, Temperatures, and  |\n",
      "|      state_variables      |     Attribute    |     Specific Volumes in respective states.                  |\n",
      "|                           |                  |  -> Returns a dictionary with respective parameters.        |\n",
      "|---------------------------|------------------|-------------------------------------------------------------|\n",
      "|                           |                  |  -> Enables to view values of q_in, q_out and w_net.        |\n",
      "|       path_variables      |     Attribute    |  -> Returns a dictionary with respective parameters.        |\n",
      "|                           |                  |                                                             |\n",
      "|---------------------------|------------------|-------------------------------------------------------------|\n",
      "|                           |                  |  -> Displays the analytical value of efficiency (eta).      |\n",
      "|        efficiency         |     Attribute    |  -> Outputs a float value of efficiency.                    |\n",
      "|                           |                  |                                                             |\n",
      "|---------------------------|------------------|-------------------------------------------------------------|\n",
      "|                           |                  |  -> Enables to calculate Efficiency without executing any   |\n",
      "|                           |                  |     other commands.                                         |\n",
      "|   get_efficiency(new_r)   |      Method      |  -> Uses CASA (takes in value for compression ratio).       |\n",
      "|                           |                  |  -> Input format (default value set to 8)-                  |\n",
      "|                           |                  |     new_r : Integer                                         |\n",
      "|---------------------------|------------------|-------------------------------------------------------------|\n",
      "|           r               |     Attribute    |  -> Displays the Compression ratio value (Default set to 8) |\n",
      "|---------------------------|------------------|-------------------------------------------------------------|\n",
      "|           k               |     Attribute    |  -> Displays Specific heat ratio value (default set t0 1.4) |\n",
      "|---------------------------|------------------|-------------------------------------------------------------|\n",
      "|           Cv              |     Attribute    |  -> Displays Specific Heat @ Constant Volume(Default=0.718) |\n",
      "|---------------------------|------------------|-------------------------------------------------------------|\n",
      "|           R               |     Attribute    |  -> Displays Gas constant value (Default set to 0.287)      |\n",
      "|___________________________|__________________|_____________________________________________________________|\n",
      "\n",
      "Default Values\n",
      "{'Compression Ratio': 8, 'Specific Heat Ratio': 1.4, 'Gas Constant': 0.287, 'Constant volume specific heat': 0.718}\n"
     ]
    }
   ],
   "source": [
    "cycle3 = IdealOtto(8)"
   ]
  },
  {
   "cell_type": "code",
   "execution_count": 26,
   "metadata": {},
   "outputs": [],
   "source": [
    "P3,P4,P2 = symbols('P3,P4,P2')\n",
    "v1,v2,v3,v4 = symbols('v1,v2,v3,v4')\n",
    "T2,T3,T4 = symbols('T2,T3,T4')\n",
    "q_out,w_net,eta = symbols('q_out,w_net,eta')"
   ]
  },
  {
   "cell_type": "code",
   "execution_count": 27,
   "metadata": {},
   "outputs": [],
   "source": [
    "cycle3.define_state(1,95,300,v1)\n",
    "cycle3.define_state(2,P2,T2,v2)\n",
    "cycle3.define_state(3,P3,T3,v3)\n",
    "cycle3.define_state(4,P4,T4,v4)\n",
    "cycle3.add_heat_addition(750)\n",
    "cycle3.add_heat_rejection(q_out)\n",
    "cycle3.add_work_output(w_net)\n",
    "cycle3.add_efficiency(eta)"
   ]
  },
  {
   "cell_type": "code",
   "execution_count": 28,
   "metadata": {},
   "outputs": [
    {
     "data": {
      "text/plain": [
       "{'State-1': {'P1': 95, 'T1': 300, 'v1': v1},\n",
       " 'State-2': {'P2': P2, 'T2': T2, 'v2': v2},\n",
       " 'State-3': {'P3': P3, 'T3': T3, 'v3': v3},\n",
       " 'State-4': {'P4': P4, 'T4': T4, 'v4': v4},\n",
       " 'Mean_effective_pressure': 'unknown'}"
      ]
     },
     "execution_count": 28,
     "metadata": {},
     "output_type": "execute_result"
    }
   ],
   "source": [
    "cycle3.state_variables"
   ]
  },
  {
   "cell_type": "code",
   "execution_count": 29,
   "metadata": {},
   "outputs": [
    {
     "data": {
      "text/plain": [
       "{'q_in': 750, 'q_out': q_out, 'w_net': w_net}"
      ]
     },
     "execution_count": 29,
     "metadata": {},
     "output_type": "execute_result"
    }
   ],
   "source": [
    "cycle3.path_variables"
   ]
  },
  {
   "cell_type": "code",
   "execution_count": 30,
   "metadata": {},
   "outputs": [
    {
     "data": {
      "text/latex": [
       "$\\displaystyle \\eta$"
      ],
      "text/plain": [
       "eta"
      ]
     },
     "execution_count": 30,
     "metadata": {},
     "output_type": "execute_result"
    }
   ],
   "source": [
    "cycle3.efficiency"
   ]
  },
  {
   "cell_type": "code",
   "execution_count": 32,
   "metadata": {},
   "outputs": [
    {
     "name": "stdout",
     "output_type": "stream",
     "text": [
      "Analysis Complete\n",
      "Execute state_variables, path_variables and efficiency for final values\n"
     ]
    },
    {
     "data": {
      "image/png": "[encoded data removed]",
      "text/plain": [
       "<Figure size 432x288 with 1 Axes>"
      ]
     },
     "metadata": {
      "needs_background": "light"
     },
     "output_type": "display_data"
    }
   ],
   "source": [
    "cycle3.analysis_using_CASA()"
   ]
  },
  {
   "cell_type": "code",
   "execution_count": 33,
   "metadata": {},
   "outputs": [
    {
     "data": {
      "text/plain": [
       "{'State-1': {'P1': 95, 'T1': 300, 'v1': 0.906},\n",
       " 'State-2': {'P2': 1746.021, 'T2': 689.219, 'v2': 0.113},\n",
       " 'State-3': {'P3': 4392.261, 'T3': 1733.787, 'v3': 0.113},\n",
       " 'State-4': {'P4': 238.98, 'T4': 754.675, 'v4': 0.906},\n",
       " 'Mean_effective_pressure': 534.1034047919293}"
      ]
     },
     "execution_count": 33,
     "metadata": {},
     "output_type": "execute_result"
    }
   ],
   "source": [
    "cycle3.state_variables"
   ]
  },
  {
   "cell_type": "code",
   "execution_count": 34,
   "metadata": {},
   "outputs": [
    {
     "data": {
      "text/plain": [
       "{'q_in': 750, 'q_out': 326.456, 'w_net': 423.544}"
      ]
     },
     "execution_count": 34,
     "metadata": {},
     "output_type": "execute_result"
    }
   ],
   "source": [
    "cycle3.path_variables"
   ]
  },
  {
   "cell_type": "code",
   "execution_count": 35,
   "metadata": {},
   "outputs": [
    {
     "data": {
      "text/plain": [
       "0.56472"
      ]
     },
     "execution_count": 35,
     "metadata": {},
     "output_type": "execute_result"
    }
   ],
   "source": [
    "cycle3.efficiency"
   ]
  },
  {
   "cell_type": "markdown",
   "metadata": {},
   "source": [
    "#END#"
   ]
  },
  {
   "cell_type": "markdown",
   "metadata": {},
   "source": [
    "For detailed explanation and references, check \"Description - Ideal Otto Cycle\".\n",
    "\n",
    "For Python code, check \"Python Code - Ideal Otto Cycle\"."
   ]
  }
 ],
 "metadata": {
  "kernelspec": {
   "display_name": "Python 3",
   "language": "python",
   "name": "python3"
  },
  "language_info": {
   "codemirror_mode": {
    "name": "ipython",
    "version": 3
   },
   "file_extension": ".py",
   "mimetype": "text/x-python",
   "name": "python",
   "nbconvert_exporter": "python",
   "pygments_lexer": "ipython3",
   "version": "3.7.6"
  }
 },
 "nbformat": 4,
 "nbformat_minor": 4
}
